{
 "cells": [
  {
   "cell_type": "markdown",
   "id": "daf7fac7-746e-4e51-9755-2fa969c3c37c",
   "metadata": {},
   "source": [
    "## PROGRAMMING ASSIGNMENT #2\n",
    "### Bea Nicole L. Retostos\n",
    "#### 2ECE-C"
   ]
  },
  {
   "cell_type": "markdown",
   "id": "343ddbcd-a868-4306-bb09-5e8f9ebfe25e",
   "metadata": {},
   "source": [
    "#### Problem Number 1\n",
    "##### (Normalized Problem)"
   ]
  },
  {
   "cell_type": "code",
   "execution_count": 12,
   "id": "416509ad-4ec8-4bc9-9abc-ce1c5b9c13a6",
   "metadata": {},
   "outputs": [
    {
     "name": "stdout",
     "output_type": "stream",
     "text": [
      "Random values:  [[0.23974165 0.00718613 0.7512979  0.76501882 0.38995416]\n",
      " [0.85465187 0.10916856 0.80636821 0.91085679 0.47900461]\n",
      " [0.24081025 0.96117455 0.22246985 0.32373439 0.03855537]\n",
      " [0.25818604 0.54041398 0.45259391 0.13744645 0.82122089]\n",
      " [0.85066243 0.98486018 0.46698575 0.86684124 0.62376958]]\n"
     ]
    },
    {
     "data": {
      "text/plain": [
       "array([[-1.45534905, -1.68790458, -0.9437928 , -0.93007189, -1.30513654],\n",
       "       [-0.84043884, -1.58592214, -0.88872249, -0.78423392, -1.21608609],\n",
       "       [-1.45428045, -0.73391615, -1.47262085, -1.37135632, -1.65653533],\n",
       "       [-1.43690466, -1.15467673, -1.24249679, -1.55764425, -0.87386982],\n",
       "       [-0.84442828, -0.71023053, -1.22810495, -0.82824946, -1.07132112]])"
      ]
     },
     "execution_count": 12,
     "metadata": {},
     "output_type": "execute_result"
    }
   ],
   "source": [
    "import numpy as np \n",
    "\n",
    "#Create a five-by-five array with random values\n",
    "\n",
    "x = np.random.random((5,5)) \n",
    "\n",
    "x_mean = x.mean() #to get the mean and ;\n",
    "x_std = x.std() #to get the standard deviation of the array\n",
    "\n",
    "#to get the normalized values, we need to calculate it using the formula of the normal value which is:\n",
    "\n",
    "normalized_value = x - x_mean / x_std \n",
    "\n",
    "#to print the value of the random 2D array\n",
    "\n",
    "print('Random values: ', x)\n",
    "\n",
    "\n",
    "#instead of print the normalized value, we are going to load the file .npy that we made by using the syntax:\n",
    "np.save('Normalized_values.npy', normalized_value) #to save for the normalized values\n",
    "\n",
    "np.load('Normalized_values.npy')"
   ]
  },
  {
   "cell_type": "markdown",
   "id": "dd3e79b9-d76f-4008-ace2-1eeb7db33559",
   "metadata": {},
   "source": [
    "#### Problem Number 2\n",
    "##### (Divisible by 3 Problem)"
   ]
  },
  {
   "cell_type": "code",
   "execution_count": 10,
   "id": "d3e32116-dcef-4aed-bfb2-c688da7a3639",
   "metadata": {},
   "outputs": [
    {
     "name": "stdout",
     "output_type": "stream",
     "text": [
      "Squared Array:  [[    1     4     9    16    25    36    49    64    81   100]\n",
      " [  121   144   169   196   225   256   289   324   361   400]\n",
      " [  441   484   529   576   625   676   729   784   841   900]\n",
      " [  961  1024  1089  1156  1225  1296  1369  1444  1521  1600]\n",
      " [ 1681  1764  1849  1936  2025  2116  2209  2304  2401  2500]\n",
      " [ 2601  2704  2809  2916  3025  3136  3249  3364  3481  3600]\n",
      " [ 3721  3844  3969  4096  4225  4356  4489  4624  4761  4900]\n",
      " [ 5041  5184  5329  5476  5625  5776  5929  6084  6241  6400]\n",
      " [ 6561  6724  6889  7056  7225  7396  7569  7744  7921  8100]\n",
      " [ 8281  8464  8649  8836  9025  9216  9409  9604  9801 10000]]\n"
     ]
    },
    {
     "data": {
      "text/plain": [
       "array([   9,   36,   81,  144,  225,  324,  441,  576,  729,  900, 1089,\n",
       "       1296, 1521, 1764, 2025, 2304, 2601, 2916, 3249, 3600, 3969, 4356,\n",
       "       4761, 5184, 5625, 6084, 6561, 7056, 7569, 8100, 8649, 9216, 9801])"
      ]
     },
     "execution_count": 10,
     "metadata": {},
     "output_type": "execute_result"
    }
   ],
   "source": [
    "import numpy as np\n",
    "\n",
    "#create an 2D array with a 10,10 that contains values with squares from 1 to 100\n",
    "sqr = np.square(np.arange(1,101)).reshape(10,10)\n",
    "\n",
    "#check to see the values that are divisible by 3\n",
    "div_by_3 = (sqr % 3 == 0)\n",
    "div_by_3_values = sqr[div_by_3] \n",
    "\n",
    "#To print for the values from the array\n",
    "print('Squared Array: ', sqr)\n",
    "\n",
    "#To save the values that are divisible by 3\n",
    "np.save('div_by_3.npy', div_by_3_values)\n",
    "\n",
    "#To call for the file, we use the syntax:\n",
    "np.load('div_by_3.npy')"
   ]
  },
  {
   "cell_type": "code",
   "execution_count": null,
   "id": "1beff947-5545-452a-bacf-b06d55d9ffbc",
   "metadata": {},
   "outputs": [],
   "source": []
  }
 ],
 "metadata": {
  "kernelspec": {
   "display_name": "Python 3 (ipykernel)",
   "language": "python",
   "name": "python3"
  },
  "language_info": {
   "codemirror_mode": {
    "name": "ipython",
    "version": 3
   },
   "file_extension": ".py",
   "mimetype": "text/x-python",
   "name": "python",
   "nbconvert_exporter": "python",
   "pygments_lexer": "ipython3",
   "version": "3.12.4"
  }
 },
 "nbformat": 4,
 "nbformat_minor": 5
}
